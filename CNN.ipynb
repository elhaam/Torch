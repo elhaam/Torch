{
 "cells": [
  {
   "cell_type": "markdown",
   "metadata": {
    "collapsed": true
   },
   "source": [
    "# CNN Design in Pytorch for Fashion MNIST Dataset"
   ]
  },
  {
   "cell_type": "markdown",
   "metadata": {},
   "source": [
    "The <a href='https://www.kaggle.com/zalando-research/fashionmnist'>Fashion-MNIST</a> dataset is available through <a href='https://pytorch.org/docs/stable/torchvision/index.html'><tt><strong>torchvision</strong></tt></a>. This dataset includes:\n",
    "    - Training set of 60,000 examples\n",
    "    - Test set of 10,000 examples\n",
    "Each example is a 28x28 grayscale image, associated with a label from one of the classes below:\n",
    "0. T-shirt/top\n",
    "1. Trouser\n",
    "2. Pullover\n",
    "3. Dress\n",
    "4. Coat\n",
    "5. Sandal\n",
    "6. Shirt\n",
    "7. Sneaker\n",
    "8. Bag\n",
    "9. Ankle boot"
   ]
  },
  {
   "cell_type": "markdown",
   "metadata": {},
   "source": [
    "## Notebook preparation\n",
    "### Standard imports\n",
    "Below cells load the libraries required for this project and the Fashion-MNIST dataset."
   ]
  },
  {
   "cell_type": "code",
   "execution_count": 1,
   "metadata": {},
   "outputs": [],
   "source": [
    "import torch\n",
    "import torch.nn as nn\n",
    "import torch.nn.functional as F\n",
    "from torch.utils.data import DataLoader\n",
    "from torchvision import datasets, transforms\n",
    "from torchvision.utils import make_grid\n",
    "\n",
    "import numpy as np\n",
    "import pandas as pd\n",
    "from sklearn.metrics import confusion_matrix\n",
    "import matplotlib.pyplot as plt\n",
    "%matplotlib inline"
   ]
  },
  {
   "cell_type": "markdown",
   "metadata": {},
   "source": [
    "### load the Fashion-MNIST dataset\n",
    "The Fashion-MNIST dataset is available through <a href='https://pytorch.org/docs/stable/torchvision/datasets.html#fashion-mnist'><tt><strong>torchvision</strong></tt></a>. "
   ]
  },
  {
   "cell_type": "code",
   "execution_count": 2,
   "metadata": {},
   "outputs": [],
   "source": [
    "transform = transforms.ToTensor()\n",
    "\n",
    "# torchvision looks for a local copy of the dataset before downloading it\n",
    "# If fails to find a local copy, downloading begins\n",
    "train_data = datasets.FashionMNIST(root='../Data', train=True, download=True, transform=transform)\n",
    "test_data = datasets.FashionMNIST(root='../Data', train=False, download=True, transform=transform)\n",
    "\n",
    "class_names = ['T-shirt','Trouser','Sweater','Dress','Coat','Sandal','Shirt','Sneaker','Bag','Boot']"
   ]
  },
  {
   "cell_type": "code",
   "execution_count": 3,
   "metadata": {},
   "outputs": [
    {
     "data": {
      "text/plain": [
       "Dataset FashionMNIST\n",
       "    Number of datapoints: 60000\n",
       "    Split: train\n",
       "    Root Location: ../Data\n",
       "    Transforms (if any): ToTensor()\n",
       "    Target Transforms (if any): None"
      ]
     },
     "execution_count": 3,
     "metadata": {},
     "output_type": "execute_result"
    }
   ],
   "source": [
    "train_data"
   ]
  },
  {
   "cell_type": "code",
   "execution_count": 4,
   "metadata": {},
   "outputs": [
    {
     "data": {
      "text/plain": [
       "Dataset FashionMNIST\n",
       "    Number of datapoints: 10000\n",
       "    Split: test\n",
       "    Root Location: ../Data\n",
       "    Transforms (if any): ToTensor()\n",
       "    Target Transforms (if any): None"
      ]
     },
     "execution_count": 4,
     "metadata": {},
     "output_type": "execute_result"
    }
   ],
   "source": [
    "test_data"
   ]
  },
  {
   "cell_type": "markdown",
   "metadata": {},
   "source": [
    "## Pipeline\n",
    "### Create data loaders\n",
    "In this part, I use DataLoader to create a <tt>train_loader</tt> and a <tt>test_loader</tt> considering batch sizes 10 for both of them. "
   ]
  },
  {
   "cell_type": "code",
   "execution_count": 5,
   "metadata": {},
   "outputs": [],
   "source": [
    "torch.manual_seed(101)\n",
    "train_loader = DataLoader(train_data, batch_size=10, shuffle=True)"
   ]
  },
  {
   "cell_type": "code",
   "execution_count": 38,
   "metadata": {},
   "outputs": [],
   "source": [
    "test_loader = DataLoader(test_data, batch_size=10, shuffle=False)"
   ]
  },
  {
   "cell_type": "markdown",
   "metadata": {},
   "source": [
    "### View a batch of images\n",
    "In this part, I display a view of the first batch of 10 images and their labels using <tt>make_grid</tt> in torchvision."
   ]
  },
  {
   "cell_type": "code",
   "execution_count": 6,
   "metadata": {},
   "outputs": [],
   "source": [
    "# This line makes the printed array wider\n",
    "np.set_printoptions(formatter=dict(int=lambda x: f'{x:6}')) "
   ]
  },
  {
   "cell_type": "code",
   "execution_count": 10,
   "metadata": {
    "scrolled": true
   },
   "outputs": [
    {
     "name": "stdout",
     "output_type": "stream",
     "text": [
      "Label: [     2      7      4      2      1      1      1      1      2      8]\n",
      "Class: \t Sweater Sneaker Coat Sweater Trouser Trouser Trouser Trouser Sweater Bag\n"
     ]
    },
    {
     "data": {
      "image/png": "[encoded data removed]",
      "text/plain": [
       "<Figure size 864x288 with 1 Axes>"
      ]
     },
     "metadata": {
      "needs_background": "light"
     },
     "output_type": "display_data"
    }
   ],
   "source": [
    "# First batch of training set\n",
    "for images,labels in train_loader: \n",
    "    break\n",
    "\n",
    "# Display labels\n",
    "print('Label:', labels.numpy())\n",
    "print('Class: \\t', *np.array([class_names[label] for label in labels]))\n",
    "\n",
    "# Display the images\n",
    "# Number of rows is 10 here (default: 8)\n",
    "im = make_grid(images, nrow=10)\n",
    "plt.figure(figsize=(12,4))\n",
    "# Transpose the tensor in order to display it here (the depth would be the last dimension in here)\n",
    "plt.imshow(np.transpose(im.numpy(), (1, 2, 0)));"
   ]
  },
  {
   "cell_type": "markdown",
   "metadata": {},
   "source": [
    "<div style='border:1px black solid; padding:5px'>\n",
    "    Most convolutional neural network follow this trend of having a convolutonal layer, then pooling layer, and repeating this until having fully connected layers at the end. \n",
    "    \n",
    "    Note that if we have 2D images of size NxN and pass it through a convolutional layer using fxf size filters, padding of size p, and stride of s then the resulting matrix size can be calculated as:\n",
    "\n",
    "\\begin{equation*}\n",
    "\\newcommand{\\floor}[1]{\\lfloor #1 \\rfloor} \n",
    "\\floor{\\frac{N + 2p -f}{s}} + 1, \\\\     \\floor{\\frac{N + 2p -f}{s}}\n",
    "+ 1\n",
    "\\end{equation*}\n",
    "- Stride s tells us the number of pixels we jump over when we are convolving filters. \n",
    "<br>\n",
    "    \n",
    "Let's consider an example image of 28x28 that is passed through a convolutional layer using 3x3 filters with a step size of 1 and no padding. Acoording to the above formula this convolutional operation results in 26x26 matrix size. Let's check this in below code:\n",
    "</div>"
   ]
  },
  {
   "cell_type": "code",
   "execution_count": 11,
   "metadata": {},
   "outputs": [
    {
     "name": "stdout",
     "output_type": "stream",
     "text": [
      "Original size: torch.Size([10, 1, 28, 28])\n",
      "Size after conv: torch.Size([10, 1, 26, 26])\n"
     ]
    }
   ],
   "source": [
    "conv = nn.Conv2d(1, 1, 3, 1)  #in_channel=1, out_channel=1, kernel_size=3, stride=1\n",
    "for x,labels in train_loader:\n",
    "    print('Original size:',x.shape)\n",
    "    break\n",
    "x = conv(x)\n",
    "print('Size after conv:',x.shape)"
   ]
  },
  {
   "cell_type": "markdown",
   "metadata": {},
   "source": [
    "<div style='border:1px black solid; padding:5px'>\n",
    "    Other than the convolutional layers, pooling layers are also very useful in CNNs to reduce the size of the tensors and speed up the computations. They also perform feature detections to find more robust models. \n",
    "As an example, if we apply a 2x2 pooling layer to the result of the previous convolutional layer, it devides the size of the matrix by half, if we have stride of 2; therefore, the result would be 13x13. \n",
    "    <br>\n",
    "The calculations are shown in below code:\n",
    "</div>"
   ]
  },
  {
   "cell_type": "code",
   "execution_count": 12,
   "metadata": {},
   "outputs": [
    {
     "name": "stdout",
     "output_type": "stream",
     "text": [
      "Down size: torch.Size([10, 1, 13, 13])\n"
     ]
    }
   ],
   "source": [
    "# Pooling layer, 2x2 filters with stride of 2\n",
    "x = F.max_pool2d(x, 2, 2)\n",
    "print('Down size:',x.shape)"
   ]
  },
  {
   "cell_type": "markdown",
   "metadata": {},
   "source": [
    "### Convolutional neural network definition\n",
    "In this section, I define a the CNN model that I want to train on the Fashion-MNIST dataset. My model contains CONV -> RELU -> POOL -> CONV -> RELU -> POOL -> FC -> RELU -> FC:\n",
    "- Two convolutional layers\n",
    "- Two pooling layers \n",
    "- Two fully connected layers\n",
    "\n",
    "This model takes 28x28 images as input and will have output layer of size 10."
   ]
  },
  {
   "cell_type": "markdown",
   "metadata": {},
   "source": [
    "<div class=\"alert alert-info\"><strong>We follow these steps to create a CNN model.</strong><br>\n",
    "\n",
    "1. Extend the base Module class at the beginning:\n",
    "   \n",
    "<tt><font color=black>class ConvolutionalNetwork(nn.Module):<br>\n",
    "&nbsp;&nbsp;&nbsp;&nbsp;def \\_\\_init\\_\\_(self):<br>\n",
    "&nbsp;&nbsp;&nbsp;&nbsp;&nbsp;&nbsp;&nbsp;&nbsp;super().\\_\\_init\\_\\_()</font></tt><br>\n",
    "\n",
    "2. Create convolutional layers with <a href='https://pytorch.org/docs/stable/nn.html#conv2d'><tt><strong>torch.nn.Conv2d()</strong></tt></a><br><br>A. The first layer has one input channel as it is grayscale. I perform feature extraction by applying 6 output channels. I use a kernel size of 3x3 to make filters, with a stride of 1.<br>\n",
    "<tt><font color=black>&nbsp;&nbsp;&nbsp;&nbsp;self.conv1 = nn.Conv2d(1, 6, 3, 1)</font></tt><br>\n",
    "B. Afterward, the second layer takes 6 input channels and deliver 16 output channels.<br>\n",
    "<tt><font color=black>&nbsp;&nbsp;&nbsp;&nbsp;self.conv2 = nn.Conv2d(6, 16, 3, 1)</font></tt><br><br>\n",
    "\n",
    "3. Create the fully connected layers with <a href='https://pytorch.org/docs/stable/nn.html#linear'><tt><strong>torch.nn.Linear()</strong></tt></a>.<br><br> Calculating the input size of the fully connected layer would be $\\;(((28-2)/2)-2)/2 = 5.5\\;$ which rounds down to a 5x5 input. To be more specific, the first convolutional layer leaves a one-pixel edge at each side (therefore two pixels vertically, and two pixels horizantally. As a result, we have 26x26 images after convolutonal layer without performing padding. As the borders of this dataset manily contains black pixels, performing padding is not required here. By applying pooling layer the size of the tensor will shrink in half, when 3x3 filters are applied using stride of 2. The size of the next fully connected layer is chosen as a common choice practice in similar datasets. <br>\n",
    "<tt><font color=black>&nbsp;&nbsp;&nbsp;&nbsp;self.fc1 = nn.Linear(5\\*5\\*16, 120)</font></tt><br>\n",
    "<tt><font color=black>&nbsp;&nbsp;&nbsp;&nbsp;self.fc2 = nn.Linear(120, 84)</font></tt><br>\n",
    "<tt><font color=black>&nbsp;&nbsp;&nbsp;&nbsp;self.fc3 = nn.Linear(84, 10)</font></tt><br>\n",
    "\n",
    "4. Design the forward method.<br><br> A. We apply acticvation functions to the convolutions using <a href='https://pytorch.org/docs/stable/nn.html#id27'><tt><strong>F.relu()</strong></tt></a>. Also, max pooling layers are designed using <a href='https://pytorch.org/docs/stable/nn.html#maxpool2d'><tt><strong>F.max_pool2d()</strong></tt></a><br>\n",
    "<tt><font color=black>def forward(self, X):<br>\n",
    "&nbsp;&nbsp;&nbsp;&nbsp;X = F.relu(self.conv1(X))<br>\n",
    "&nbsp;&nbsp;&nbsp;&nbsp;X = F.max_pool2d(X, 2, 2)<br>\n",
    "&nbsp;&nbsp;&nbsp;&nbsp;X = F.relu(self.conv2(X))<br>\n",
    "&nbsp;&nbsp;&nbsp;&nbsp;X = F.max_pool2d(X, 2, 2)<br>\n",
    "</font></tt>B. Flatten the data for the fully connected layers:<br><tt><font color=black>\n",
    "&nbsp;&nbsp;&nbsp;&nbsp;X = X.view(-1, 5\\*5\\*16)<br>\n",
    "&nbsp;&nbsp;&nbsp;&nbsp;X = F.relu(self.fc1(X))<br>\n",
    "&nbsp;&nbsp;&nbsp;&nbsp;X = self.fc2(X)<br>\n",
    "&nbsp;&nbsp;&nbsp;&nbsp;return F.log_softmax(X, dim=1)</font></tt>\n",
    "</div>"
   ]
  },
  {
   "cell_type": "code",
   "execution_count": 51,
   "metadata": {},
   "outputs": [],
   "source": [
    "class MyCNN(nn.Module):\n",
    "    # Extend the base model class\n",
    "    def __init__(self):\n",
    "        super().__init__()\n",
    "        self.conv1 = nn.Conv2d(1, 6, 3, 1) # 6 output channels\n",
    "        self.conv2 = nn.Conv2d(6, 16, 3, 1) #16 output channels\n",
    "        self.fc1 = nn.Linear(5*5*16, 100)\n",
    "        self.fc2 = nn.Linear(100, 10)\n",
    "\n",
    "    def forward(self, X):\n",
    "        X = F.relu(self.conv1(X))\n",
    "        X = F.max_pool2d(X, 2, 2) # pooling kernel size=2, stride = 2\n",
    "        X = F.relu(self.conv2(X))\n",
    "        X = F.max_pool2d(X, 2, 2) # pooling kernel size=2, stride = 2\n",
    "        X = X.view(-1, 5*5*16) # Flatten the matrix to feed a fully connected layer\n",
    "        X = F.relu(self.fc1(X))\n",
    "        X = self.fc2(X)\n",
    "        return F.log_softmax(X, dim=1)\n",
    "    \n",
    "torch.manual_seed(24)\n",
    "model = MyCNN()"
   ]
  },
  {
   "cell_type": "markdown",
   "metadata": {},
   "source": [
    "The model looks like below:"
   ]
  },
  {
   "cell_type": "code",
   "execution_count": 52,
   "metadata": {},
   "outputs": [
    {
     "data": {
      "text/plain": [
       "MyCNN(\n",
       "  (conv1): Conv2d(1, 6, kernel_size=(3, 3), stride=(1, 1))\n",
       "  (conv2): Conv2d(6, 16, kernel_size=(3, 3), stride=(1, 1))\n",
       "  (fc1): Linear(in_features=400, out_features=100, bias=True)\n",
       "  (fc2): Linear(in_features=100, out_features=10, bias=True)\n",
       ")"
      ]
     },
     "execution_count": 52,
     "metadata": {},
     "output_type": "execute_result"
    }
   ],
   "source": [
    "model"
   ]
  },
  {
   "cell_type": "markdown",
   "metadata": {},
   "source": [
    "CNNs are used to decrease the computational overhead of processing big images by introducing convolutional layers and pooling layers that decrease the number of parameters in the model significantly. In this specific model here, we can find the number of the parameters (including the bias terms) in the model as below:\n",
    "\n",
    "<div style='padding:5px'>\n",
    "$\\quad\\begin{split}(1\\times6\\times3\\times3)+6+(6\\times16\\times3\\times3)+16+(400\\times100)+100+(100\\times10)+10 &=\\\\\n",
    "54+6+864+16+40000+100+1000+10 &= 42,050\\end{split}$<br>\n",
    "</div>"
   ]
  },
  {
   "cell_type": "code",
   "execution_count": 48,
   "metadata": {},
   "outputs": [],
   "source": [
    "def count_parameters(model):\n",
    "    params = [param.numel() for param in model.parameters() if param.requires_grad]\n",
    "    print(params)\n",
    "    print(f' \\nsum: {sum(params)}')"
   ]
  },
  {
   "cell_type": "code",
   "execution_count": 49,
   "metadata": {},
   "outputs": [
    {
     "name": "stdout",
     "output_type": "stream",
     "text": [
      "[54, 6, 864, 16, 40000, 100, 1000, 10]\n",
      " \n",
      "sum: 42050\n"
     ]
    }
   ],
   "source": [
    "count_parameters(model)"
   ]
  },
  {
   "cell_type": "markdown",
   "metadata": {},
   "source": [
    "### Loss function and optimizer\n",
    "In this part, I define a loss function that is called \"criterion\" and an optimizer called \"optimizer\"\n",
    "using Cross Entropy Loss and Adam (learning rate of 0.001)."
   ]
  },
  {
   "cell_type": "code",
   "execution_count": 54,
   "metadata": {},
   "outputs": [],
   "source": [
    "criterion = nn.CrossEntropyLoss()\n",
    "optimizer = torch.optim.Adam(model.parameters(), lr=0.001)"
   ]
  },
  {
   "cell_type": "markdown",
   "metadata": {},
   "source": [
    "### Training the model\n",
    "\n",
    "In this section we feed the data directly into the model to train it."
   ]
  },
  {
   "cell_type": "code",
   "execution_count": 55,
   "metadata": {},
   "outputs": [
    {
     "name": "stdout",
     "output_type": "stream",
     "text": [
      "epoch  0,  batch 1000 -> loss: 0.36906940  accuracy:  72.040%\n",
      "epoch  0,  batch 2000 -> loss: 0.08695976  accuracy:  76.290%\n",
      "epoch  0,  batch 3000 -> loss: 0.07228963  accuracy:  78.540%\n",
      "epoch  0,  batch 4000 -> loss: 0.15724052  accuracy:  80.028%\n",
      "epoch  0,  batch 5000 -> loss: 0.15887776  accuracy:  81.066%\n",
      "epoch  0,  batch 6000 -> loss: 0.40527382  accuracy:  81.887%\n",
      "epoch  1,  batch 1000 -> loss: 0.57526886  accuracy:  86.260%\n",
      "epoch  1,  batch 2000 -> loss: 0.17887256  accuracy:  86.625%\n",
      "epoch  1,  batch 3000 -> loss: 0.08559704  accuracy:  86.873%\n",
      "epoch  1,  batch 4000 -> loss: 0.01638916  accuracy:  87.043%\n",
      "epoch  1,  batch 5000 -> loss: 0.20932522  accuracy:  87.180%\n",
      "epoch  1,  batch 6000 -> loss: 0.25373715  accuracy:  87.250%\n",
      "epoch  2,  batch 1000 -> loss: 0.24757957  accuracy:  89.030%\n",
      "epoch  2,  batch 2000 -> loss: 0.12466985  accuracy:  88.900%\n",
      "epoch  2,  batch 3000 -> loss: 0.20957537  accuracy:  88.923%\n",
      "epoch  2,  batch 4000 -> loss: 0.54517877  accuracy:  88.748%\n",
      "epoch  2,  batch 5000 -> loss: 0.10704906  accuracy:  88.702%\n",
      "epoch  2,  batch 6000 -> loss: 0.28584081  accuracy:  88.737%\n",
      "epoch  3,  batch 1000 -> loss: 0.13639024  accuracy:  89.100%\n",
      "epoch  3,  batch 2000 -> loss: 0.31913418  accuracy:  89.305%\n",
      "epoch  3,  batch 3000 -> loss: 0.77890384  accuracy:  89.537%\n",
      "epoch  3,  batch 4000 -> loss: 0.11381773  accuracy:  89.375%\n",
      "epoch  3,  batch 5000 -> loss: 0.29231614  accuracy:  89.496%\n",
      "epoch  3,  batch 6000 -> loss: 0.29435739  accuracy:  89.543%\n",
      "epoch  4,  batch 1000 -> loss: 0.54374611  accuracy:  91.110%\n",
      "epoch  4,  batch 2000 -> loss: 0.51381242  accuracy:  90.585%\n",
      "epoch  4,  batch 3000 -> loss: 0.15800543  accuracy:  90.497%\n",
      "epoch  4,  batch 4000 -> loss: 0.35949275  accuracy:  90.328%\n",
      "epoch  4,  batch 5000 -> loss: 0.30003414  accuracy:  90.326%\n",
      "epoch  4,  batch 6000 -> loss: 0.16499417  accuracy:  90.355%\n",
      "\n",
      "Duration to train and test the model: 151 seconds\n"
     ]
    }
   ],
   "source": [
    "import time\n",
    "start = time.time()\n",
    "\n",
    "# Number of epochs \n",
    "epochs = 5\n",
    "train_loss = []\n",
    "test_loss = []\n",
    "train_true = []\n",
    "test_true = []\n",
    "\n",
    "for e in range(epochs):\n",
    "    tr_true = 0\n",
    "    ts_true = 0\n",
    "    # Perform training batches\n",
    "    for b, (X_train, y_train) in enumerate(train_loader):\n",
    "        b = b + 1 \n",
    "        \n",
    "        # Predict the train data using the model (no need to flatten X-train here)\n",
    "        y_pred = model(X_train)  \n",
    "        loss = criterion(y_pred, y_train)\n",
    "        \n",
    "        # The amount of correct predictions\n",
    "        predicted = torch.max(y_pred.data, 1)[1]\n",
    "        batch_true = (predicted == y_train).sum()\n",
    "        tr_true += batch_true\n",
    "        \n",
    "        # Update the parameters in the model\n",
    "        optimizer.zero_grad()\n",
    "        loss.backward()\n",
    "        optimizer.step()\n",
    "        \n",
    "        if b%1000 == 0:\n",
    "            print(f'epoch {e:2},  batch {b:4} -> loss: {loss.item():10.8f}  accuracy: {tr_true.item()*100/(10*b):7.3f}%')\n",
    "        \n",
    "    train_loss.append(loss)\n",
    "    train_true.append(tr_true)\n",
    "        \n",
    "    # The batches in the test set\n",
    "    with torch.no_grad():\n",
    "        for b, (X_test, y_test) in enumerate(test_loader):\n",
    "            # The model from training\n",
    "            y_val = model(X_test)\n",
    "\n",
    "            # The correct predictions\n",
    "            predicted = torch.max(y_val.data, 1)[1] \n",
    "            ts_true += (predicted == y_test).sum()\n",
    "            \n",
    "    loss = criterion(y_val, y_test)\n",
    "    test_loss.append(loss)\n",
    "    test_true.append(ts_true)\n",
    "    \n",
    "# The time elapsed         \n",
    "print(f'\\nDuration to train and test the model: {time.time() - start:.0f} seconds')            "
   ]
  },
  {
   "cell_type": "code",
   "execution_count": null,
   "metadata": {},
   "outputs": [],
   "source": []
  },
  {
   "cell_type": "markdown",
   "metadata": {},
   "source": [
    "### Plot of loss and accuracy during training"
   ]
  },
  {
   "cell_type": "code",
   "execution_count": 59,
   "metadata": {},
   "outputs": [
    {
     "data": {
      "image/png": "[encoded data removed]",
      "text/plain": [
       "<Figure size 432x288 with 1 Axes>"
      ]
     },
     "metadata": {
      "needs_background": "light"
     },
     "output_type": "display_data"
    }
   ],
   "source": [
    "plt.plot(train_loss, label='Training loss')\n",
    "plt.plot(test_loss, label='Validation loss')\n",
    "plt.title('Loss at the end of epoch')\n",
    "plt.xlabel('Epoch')\n",
    "plt.ylabel('Loss')\n",
    "plt.legend();"
   ]
  },
  {
   "cell_type": "code",
   "execution_count": 62,
   "metadata": {},
   "outputs": [
    {
     "data": {
      "image/png": "[encoded data removed]",
      "text/plain": [
       "<Figure size 432x288 with 1 Axes>"
      ]
     },
     "metadata": {
      "needs_background": "light"
     },
     "output_type": "display_data"
    }
   ],
   "source": [
    "plt.plot([t/600 for t in train_true], label='Training accuracy')\n",
    "plt.plot([t/100 for t in test_true], label='Validation accuracy')\n",
    "plt.title('Accuracy at the end of epoch')\n",
    "plt.xlabel('Epoch')\n",
    "plt.ylabel('Accuracy')\n",
    "plt.legend();"
   ]
  },
  {
   "cell_type": "markdown",
   "metadata": {},
   "source": [
    "We see that the training accuracy increases aftet each epoch, but validation accuracy does not change much after the second epoch so the model may start to overfit. "
   ]
  },
  {
   "cell_type": "markdown",
   "metadata": {},
   "source": [
    "### Evaluate the model on the test data\n",
    "USing <tt>model.eval()</tt> I determine the percentage correct predicted images out of 10,000 total test data."
   ]
  },
  {
   "cell_type": "code",
   "execution_count": 70,
   "metadata": {},
   "outputs": [],
   "source": [
    "test_load_all = DataLoader(test_data, batch_size=10000, shuffle=False)"
   ]
  },
  {
   "cell_type": "code",
   "execution_count": 74,
   "metadata": {},
   "outputs": [
    {
     "name": "stdout",
     "output_type": "stream",
     "text": [
      "Test accuracy: 8886/10000 =  88.860%\n"
     ]
    }
   ],
   "source": [
    "model.eval()\n",
    "\n",
    "# No backpropagation requierd while testing\n",
    "with torch.no_grad():\n",
    "    correct = 0\n",
    "    for X_test, y_test in test_load_all:\n",
    "        y_val = model(X_test)\n",
    "        predicted = torch.max(y_val,1)[1]\n",
    "        correct += (predicted == y_test).sum()\n",
    "        \n",
    "print(f'Test accuracy: {correct.item()}/{len(test_data)} = {correct.item()*100/(len(test_data)):7.3f}%')"
   ]
  },
  {
   "cell_type": "code",
   "execution_count": null,
   "metadata": {},
   "outputs": [],
   "source": []
  },
  {
   "cell_type": "code",
   "execution_count": null,
   "metadata": {},
   "outputs": [],
   "source": []
  },
  {
   "cell_type": "markdown",
   "metadata": {},
   "source": [
    "### Confusion matrix"
   ]
  },
  {
   "cell_type": "code",
   "execution_count": 100,
   "metadata": {},
   "outputs": [
    {
     "name": "stdout",
     "output_type": "stream",
     "text": [
      "[[   0    1    2    3    4    5    6    7    8    9]]\n",
      "\n",
      "\n",
      "[[ 872    5   17   19    3    1  146    0    3    1]\n",
      " [   1  972    1   11    1    0    2    0    1    0]\n",
      " [  22    0  863   11  119    0  101    0    6    0]\n",
      " [  12   15   10  908   35    1   20    0    2    0]\n",
      " [   2    2   39   23  759    0   60    0    3    0]\n",
      " [   1    0    0    0    0  980    0   16    3   10]\n",
      " [  86    4   65   26   82    0  658    0    2    0]\n",
      " [   0    0    0    0    0   12    0  975    6   64]\n",
      " [   4    2    5    2    1    0   13    0  974    0]\n",
      " [   0    0    0    0    0    6    0    9    0  925]]\n"
     ]
    }
   ],
   "source": [
    "# print a row of values for reference\n",
    "np.set_printoptions(formatter=dict(int=lambda x: f'{x:4}'))\n",
    "print(np.arange(10).reshape(1,10))\n",
    "print(\"\\n\")\n",
    "# confusion matrix\n",
    "print(confusion_matrix(predicted.view(-1), y_test.view(-1)))"
   ]
  },
  {
   "cell_type": "markdown",
   "metadata": {},
   "source": [
    "In order to get more information from the confusion matrix, let's define a function to plot the confusion matrix that shows which labels are more accurate for our model to predict. "
   ]
  },
  {
   "cell_type": "code",
   "execution_count": 106,
   "metadata": {},
   "outputs": [],
   "source": [
    "import itertools\n",
    "def plot_confusion_matrix(cm,\n",
    "                          target_names,\n",
    "                          title='Confusion matrix',\n",
    "                          cmap=None,\n",
    "                          normalize=True):\n",
    "    \"\"\"\n",
    "    given a sklearn confusion matrix (cm), make a nice plot\n",
    "\n",
    "    Arguments\n",
    "    ---------\n",
    "    cm:           confusion matrix from sklearn.metrics.confusion_matrix\n",
    "\n",
    "    target_names: given classification classes such as [0, 1, 2]\n",
    "                  the class names, for example: ['high', 'medium', 'low']\n",
    "\n",
    "    title:        the text to display at the top of the matrix\n",
    "\n",
    "    cmap:         the gradient of the values displayed from matplotlib.pyplot.cm\n",
    "                  see http://matplotlib.org/examples/color/colormaps_reference.html\n",
    "                  plt.get_cmap('jet') or plt.cm.Blues\n",
    "\n",
    "    normalize:    If False, plot the raw numbers\n",
    "                  If True, plot the proportions\n",
    "\n",
    "\n",
    "    Citiation\n",
    "    ---------\n",
    "    http://scikit-learn.org/stable/auto_examples/model_selection/plot_confusion_matrix.html\n",
    "    https://www.kaggle.com/grfiv4/plot-a-confusion-matrix\n",
    "    \n",
    "    \"\"\"\n",
    "\n",
    "    accuracy = np.trace(cm) / np.sum(cm).astype('float')\n",
    "    misclass = 1 - accuracy\n",
    "\n",
    "    if cmap is None:\n",
    "        cmap = plt.get_cmap('Greens')\n",
    "\n",
    "    plt.figure(figsize=(10, 7.5))\n",
    "    plt.imshow(cm, interpolation='nearest', cmap=cmap)\n",
    "    plt.title(title)\n",
    "    plt.colorbar()\n",
    "\n",
    "    if target_names is not None:\n",
    "        tick_marks = np.arange(len(target_names))\n",
    "        plt.xticks(tick_marks, target_names, rotation=45)\n",
    "        plt.yticks(tick_marks, target_names)\n",
    "\n",
    "    if normalize:\n",
    "        cm = cm.astype('float') / cm.sum(axis=1)[:, np.newaxis]\n",
    "\n",
    "\n",
    "    thresh = cm.max() / 1.5 if normalize else cm.max() / 2\n",
    "    for i, j in itertools.product(range(cm.shape[0]), range(cm.shape[1])):\n",
    "        if normalize:\n",
    "            plt.text(j, i, \"{:0.3f}\".format(cm[i, j]),\n",
    "                     horizontalalignment=\"center\",\n",
    "                     color=\"white\" if cm[i, j] > thresh else \"black\")\n",
    "        else:\n",
    "            plt.text(j, i, \"{:,}\".format(cm[i, j]),\n",
    "                     horizontalalignment=\"center\",\n",
    "                     color=\"white\" if cm[i, j] > thresh else \"black\")\n",
    "\n",
    "    plt.tight_layout()\n",
    "    plt.ylabel('True label')\n",
    "    plt.xlabel('Predicted label\\naccuracy={:0.4f}; misclass={:0.4f}'.format(accuracy, misclass))\n",
    "    plt.show()"
   ]
  },
  {
   "cell_type": "code",
   "execution_count": 115,
   "metadata": {},
   "outputs": [
    {
     "data": {
      "image/png": "[encoded data removed]",
      "text/plain": [
       "<Figure size 720x540 with 2 Axes>"
      ]
     },
     "metadata": {
      "needs_background": "light"
     },
     "output_type": "display_data"
    }
   ],
   "source": [
    "cm = confusion_matrix(predicted.view(-1), y_test.view(-1))\n",
    "\n",
    "plot_confusion_matrix(cm, normalize    = True,\n",
    "                      target_names = class_names,\n",
    "                      title        = \"Confusion Matrix, Normalized\")"
   ]
  },
  {
   "cell_type": "markdown",
   "metadata": {},
   "source": [
    "#### Results\n",
    "- According to the confusion matrix, classes **trouser**, **dress**, **sandal**, **sneaker**, **bag**, and **boot** can be classified better using this model.  On the other hand, we can see that **T-shirt** can be classified as \"sneaker\" in this mode by mistake. \n",
    "\n",
    "- **Sweater** can also be classified as \"coat\" or \"shirt\" class by mistake. \n",
    "\n",
    "- **Coat** can be classified as \"shirt\" wrongly. \n",
    "\n",
    "- **Shirt** is the least accurate class and can be mistaken with \"T-shirt\", \"Sweater\" or even \"Coat\" class. "
   ]
  },
  {
   "cell_type": "raw",
   "metadata": {},
   "source": []
  }
 ],
 "metadata": {
  "kernelspec": {
   "display_name": "Python 3",
   "language": "python",
   "name": "python3"
  },
  "language_info": {
   "codemirror_mode": {
    "name": "ipython",
    "version": 3
   },
   "file_extension": ".py",
   "mimetype": "text/x-python",
   "name": "python",
   "nbconvert_exporter": "python",
   "pygments_lexer": "ipython3",
   "version": "3.7.3"
  }
 },
 "nbformat": 4,
 "nbformat_minor": 2
}
